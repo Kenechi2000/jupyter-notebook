{
 "cells": [
  {
   "cell_type": "markdown",
   "id": "a8d400d4-9fba-42a9-b1aa-adf84a58afc0",
   "metadata": {},
   "source": [
    "# Data Science Tools And Eco System"
   ]
  },
  {
   "cell_type": "markdown",
   "id": "1c0c8441-f3fd-4b99-bf5a-eb5d053dcf42",
   "metadata": {},
   "source": [
    "## In this notebook, Data Science Tools and Ecosystem are summarized."
   ]
  },
  {
   "cell_type": "markdown",
   "id": "181019f0-4863-465a-9c14-4666c83105b7",
   "metadata": {},
   "source": [
    "## **Objectives**"
   ]
  },
  {
   "cell_type": "markdown",
   "id": "9ea22d4a-0f51-4b22-bc4c-bd5a0c710004",
   "metadata": {},
   "source": [
    "- #### List popular languages for Data Science\n",
    "- #### List some of the commonly used libraries used by data scientists\n",
    "- #### List some data science tools\n",
    "- #### Show examples of value arithmetic expressions in python"
   ]
  },
  {
   "cell_type": "markdown",
   "id": "ca51d16c-097b-427b-96f3-82d20d7bb256",
   "metadata": {},
   "source": [
    "### Some of the popular languages that Data Scientists use are: "
   ]
  },
  {
   "cell_type": "markdown",
   "id": "b12b693c-36c5-480c-acb4-07fba17ba0b9",
   "metadata": {},
   "source": [
    "#### 1. Python\n",
    "#### 2. R\n",
    "#### 3. SQL\n",
    "#### 4. Java"
   ]
  },
  {
   "cell_type": "markdown",
   "id": "740b2b28-8f75-4c74-9ca5-31687e683c05",
   "metadata": {},
   "source": [
    "### Some of the commonly used libraries used by Data Scientists include:"
   ]
  },
  {
   "cell_type": "markdown",
   "id": "28bedfd1-1483-40a2-bdad-c13a3612de04",
   "metadata": {},
   "source": [
    "#### 1. Matplotlib\n",
    "#### 2. NumPy\n",
    "#### 3. Pandas\n",
    "#### 4. Scikit-learn"
   ]
  },
  {
   "cell_type": "markdown",
   "id": "1ecf5ca1-21bf-4bee-9136-4f960b8be0e5",
   "metadata": {},
   "source": [
    "|Data Science Tools|\n",
    "|------------------|\n",
    "|Tensorflow|\n",
    "|Pandas|\n",
    "|Apache Spark|\n",
    "|Hadoop|"
   ]
  },
  {
   "cell_type": "markdown",
   "id": "3f5279c6-ea3b-40ab-b2a1-58854333215c",
   "metadata": {},
   "source": [
    "### Below are a few examples of evaluating arithmetic expressions in Python"
   ]
  },
  {
   "cell_type": "markdown",
   "id": "1ee33cd7-7987-4b43-8f77-19a09191c196",
   "metadata": {},
   "source": [
    "#### This a simple arithmetic expression to mutiply then add integers"
   ]
  },
  {
   "cell_type": "code",
   "execution_count": 31,
   "id": "f8fa40db-66c9-4c49-9bd4-08ee732a1f1e",
   "metadata": {},
   "outputs": [
    {
     "data": {
      "text/plain": [
       "17"
      ]
     },
     "execution_count": 31,
     "metadata": {},
     "output_type": "execute_result"
    }
   ],
   "source": [
    "(3*4)+5"
   ]
  },
  {
   "cell_type": "code",
   "execution_count": 5,
   "id": "ecb95149-1b42-4954-be5b-75a77f29cd58",
   "metadata": {},
   "outputs": [
    {
     "data": {
      "text/plain": [
       "3.3333333333333335"
      ]
     },
     "execution_count": 5,
     "metadata": {},
     "output_type": "execute_result"
    }
   ],
   "source": [
    "# Define the number of minutes\n",
    "minutes = 200\n",
    "# Convert minutes to hours\n",
    "hours = minutes / 60\n",
    "# Print the result\n",
    "hours"
   ]
  },
  {
   "cell_type": "markdown",
   "id": "0b5913f2-1d5f-4e88-8f80-b60cadd06473",
   "metadata": {},
   "source": [
    "## Author\n",
    "Orji-Okafor Kenechukwu Franklin"
   ]
  },
  {
   "cell_type": "code",
   "execution_count": null,
   "id": "3dc65853-0121-4761-b77e-4b9637683606",
   "metadata": {},
   "outputs": [],
   "source": []
  }
 ],
 "metadata": {
  "kernelspec": {
   "display_name": "Python 3 (ipykernel)",
   "language": "python",
   "name": "python3"
  },
  "language_info": {
   "codemirror_mode": {
    "name": "ipython",
    "version": 3
   },
   "file_extension": ".py",
   "mimetype": "text/x-python",
   "name": "python",
   "nbconvert_exporter": "python",
   "pygments_lexer": "ipython3",
   "version": "3.11.7"
  }
 },
 "nbformat": 4,
 "nbformat_minor": 5
}
